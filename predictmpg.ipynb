{
 "cells": [
  {
   "cell_type": "code",
   "execution_count": null,
   "id": "af3efb5b-6df8-457c-9ef6-fd71a54c4d48",
   "metadata": {},
   "outputs": [],
   "source": [
    "import pandas as pd\n",
    "from sklearn.linear_model import LinearRegression \n",
    "from sklearn.model_selection import train_test_split\n",
    "from sklearn.preprocessing import MinMaxScaler\n",
    "from sklearn.model_selection import train_test_split\n",
    "from sklearn.feature_selection import SequentialFeatureSelector\n",
    "from sklearn.metrics import mean_squared_error\n",
    "from math import sqrt\n",
    "\n",
    "\n",
    "# drop rows with '?'\n",
    "test_data = pd.read_fwf(r'auto-mpg.data', skiprows=[32, 126, 330, 336, 354, 374], header=None)\n",
    "test_data = test_data.drop(test_data.columns[8], axis=1) # drop last column "
   ]
  },
  {
   "cell_type": "code",
   "execution_count": null,
   "id": "d8c47bb8-6c5f-4af4-840f-549d90a1182b",
   "metadata": {},
   "outputs": [],
   "source": [
    "# initialize linear regression \n",
    "linear = LinearRegression()"
   ]
  },
  {
   "cell_type": "code",
   "execution_count": null,
   "id": "99a64a2f-2dc9-487d-9e09-97385bbd103f",
   "metadata": {},
   "outputs": [],
   "source": [
    "# scale columns that need scaling\n",
    "# initialize scaler\n",
    "minMax = MinMaxScaler()\n",
    "# list all columns that do not need to be scaled\n",
    "nonScaled = [0]\n",
    "scaled_columns = test_data.columns[~test_data.columns.isin(nonScaled)]\n",
    "# scale the data\n",
    "test_data[scaled_columns] = minMax.fit_transform(test_data[scaled_columns])"
   ]
  },
  {
   "cell_type": "code",
   "execution_count": null,
   "id": "2a41c5e5-02c9-4c83-b4ae-f223aa9213cc",
   "metadata": {},
   "outputs": [],
   "source": [
    "# splits for cross validation\n",
    "train, test = train_test_split(test_data, train_size = 0.7, test_size = 0.3, random_state = 10)"
   ]
  },
  {
   "cell_type": "code",
   "execution_count": null,
   "id": "64cc6e5e-30cc-4720-b06c-a9330d484076",
   "metadata": {},
   "outputs": [],
   "source": [
    "# set up feature selector\n",
    "feats = SequentialFeatureSelector(linear, n_features_to_select=6, direction = \"forward\")\n",
    "# fit the feature selector\n",
    "feats.fit(test_data[scaled_columns], test_data[0])\n",
    "# takes the list of the best features/columns that the feature selector found\n",
    "predictors = list(scaled_columns[feats.get_support()])"
   ]
  },
  {
   "cell_type": "code",
   "execution_count": null,
   "id": "b695ec52-d39f-45ce-b2a3-fec6891b6b98",
   "metadata": {},
   "outputs": [],
   "source": [
    "# train model\n",
    "linear.fit(train[predictors], train[0])"
   ]
  },
  {
   "cell_type": "code",
   "execution_count": null,
   "id": "64ed308e-6de9-4635-b960-1e1dae38a869",
   "metadata": {},
   "outputs": [],
   "source": [
    "# test model\n",
    "predictions = linear.predict(test[predictors])"
   ]
  },
  {
   "cell_type": "code",
   "execution_count": null,
   "id": "959031fe-fa93-40a8-942a-f19d411436a6",
   "metadata": {},
   "outputs": [],
   "source": [
    "# calculate RMSE\n",
    "RMS = sqrt(mean_squared_error(test[0], predictions))\n",
    "print(f\"RMS: {RMS:>7f}\")"
   ]
  },
  {
   "cell_type": "code",
   "execution_count": null,
   "id": "53b8f8a8-d44a-4ea9-b19d-2638c73a2b6f",
   "metadata": {},
   "outputs": [],
   "source": []
  }
 ],
 "metadata": {
  "kernelspec": {
   "display_name": "Python 3 (ipykernel)",
   "language": "python",
   "name": "python3"
  },
  "language_info": {
   "codemirror_mode": {
    "name": "ipython",
    "version": 3
   },
   "file_extension": ".py",
   "mimetype": "text/x-python",
   "name": "python",
   "nbconvert_exporter": "python",
   "pygments_lexer": "ipython3",
   "version": "3.10.11"
  }
 },
 "nbformat": 4,
 "nbformat_minor": 5
}
